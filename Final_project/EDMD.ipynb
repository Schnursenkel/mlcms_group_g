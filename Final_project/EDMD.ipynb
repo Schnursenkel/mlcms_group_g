{
 "cells": [
  {
   "cell_type": "markdown",
   "metadata": {},
   "source": [
    "# Own implementation of the EDMD algorithm (task 2) and application to two examples (tasks 3 and 4)"
   ]
  },
  {
   "cell_type": "markdown",
   "metadata": {},
   "source": [
    "The Extended Dynamic Mode Decomposition (EDMD) is a method to approximate the Koopman operator $\\mathbf{K}$ and the correpsonding triples of Koopman eigenvalue, eigenfunction and mode. Where $\\{(\\mu_k, \\phi_k, v_k)\\}^K_{k=1}$ is the set of K triples required to reconstruct the full state. (See Williams et al., 2015)"
   ]
  },
  {
   "cell_type": "code",
   "execution_count": 1,
   "metadata": {},
   "outputs": [],
   "source": [
    "import numpy as np\n",
    "import matplotlib.pyplot as plt\n",
    "#from scipy.interpolate import griddata"
   ]
  },
  {
   "cell_type": "markdown",
   "metadata": {},
   "source": [
    "### Task 2: Own implementation of the EDMD algorithm"
   ]
  },
  {
   "cell_type": "markdown",
   "metadata": {},
   "source": [
    "Requirements:\\\n",
    "Data set with 'labeled data', i.e. $F(x_i) = y_i$\\\n",
    "Dictionary of observables, i.e. basisfunctions (best choice depends on data set)"
   ]
  },
  {
   "cell_type": "code",
   "execution_count": 2,
   "metadata": {},
   "outputs": [],
   "source": [
    "# Calculate Koopman operator K\n",
    "def calc_K(X, Y, D):\n",
    "    M = np.shape(X)[1]\n",
    "    # evaluate D with values from X\n",
    "    phi_x = []\n",
    "    for i in range(M):\n",
    "        phi_x.append(D(X[0,i],X[1,i]))\n",
    "    phi_x = np.array(phi_x)\n",
    "    # evaluate D with value from Y\n",
    "    phi_y = []\n",
    "    for i in range(M):\n",
    "        phi_y.append(D(Y[0,i],Y[1,i]))\n",
    "    phi_y = np.array(phi_y)\n",
    "    # calulate G and A matrices\n",
    "    G = 1/M * phi_x.T @ phi_x\n",
    "    A = 1/M * phi_x.T @ phi_y\n",
    "    # solve for K\n",
    "    K = np.linalg.pinv(G) @ A\n",
    "    return K"
   ]
  },
  {
   "cell_type": "code",
   "execution_count": 3,
   "metadata": {},
   "outputs": [
    {
     "ename": "NameError",
     "evalue": "name 'X' is not defined",
     "output_type": "error",
     "traceback": [
      "\u001b[1;31m---------------------------------------------------------------------------\u001b[0m",
      "\u001b[1;31mNameError\u001b[0m                                 Traceback (most recent call last)",
      "\u001b[1;32m<ipython-input-3-d0ccf6c931d7>\u001b[0m in \u001b[0;36m<module>\u001b[1;34m\u001b[0m\n\u001b[0;32m      1\u001b[0m \u001b[1;31m# for debugging\u001b[0m\u001b[1;33m\u001b[0m\u001b[1;33m\u001b[0m\u001b[1;33m\u001b[0m\u001b[0m\n\u001b[1;32m----> 2\u001b[1;33m \u001b[0mmyK\u001b[0m \u001b[1;33m=\u001b[0m \u001b[0mcalc_K\u001b[0m\u001b[1;33m(\u001b[0m\u001b[0mX\u001b[0m\u001b[1;33m,\u001b[0m\u001b[0mY\u001b[0m\u001b[1;33m,\u001b[0m\u001b[0mDn\u001b[0m\u001b[1;33m)\u001b[0m\u001b[1;33m\u001b[0m\u001b[1;33m\u001b[0m\u001b[0m\n\u001b[0m\u001b[0;32m      3\u001b[0m \u001b[0mnp\u001b[0m\u001b[1;33m.\u001b[0m\u001b[0mshape\u001b[0m\u001b[1;33m(\u001b[0m\u001b[0mmyK\u001b[0m\u001b[1;33m)\u001b[0m\u001b[1;31m#looks good\u001b[0m\u001b[1;33m\u001b[0m\u001b[1;33m\u001b[0m\u001b[0m\n",
      "\u001b[1;31mNameError\u001b[0m: name 'X' is not defined"
     ]
    }
   ],
   "source": [
    "# for debugging\n",
    "myK = calc_K(X,Y,Dn)\n",
    "np.shape(myK)#looks good"
   ]
  },
  {
   "cell_type": "code",
   "execution_count": 4,
   "metadata": {},
   "outputs": [],
   "source": [
    "#Dn*5"
   ]
  },
  {
   "cell_type": "markdown",
   "metadata": {},
   "source": [
    "Eigenfunction of $\\mathbf{K}$: $\\phi_j = \\Psi \\zeta_j$ with $\\zeta_j$ being the j-th eigenvector of $\\mathbf{K}$"
   ]
  },
  {
   "cell_type": "code",
   "execution_count": 5,
   "metadata": {},
   "outputs": [],
   "source": [
    "# caluclate eigenvalues, -vectors, -functions\n",
    "def calc_eig(K, D):\n",
    "    eigenvalues, eigenvectors = np.linalg.eig(K)\n",
    "    #print(np.shape(D))\n",
    "    #eigenfunctions = D @ eigenvectors # D is the problem -> it's not possible to multiply it with anything :(\n",
    "    return eigenvalues, eigenvectors#, eigenfunctions"
   ]
  },
  {
   "cell_type": "code",
   "execution_count": 6,
   "metadata": {},
   "outputs": [
    {
     "ename": "NameError",
     "evalue": "name 'myK' is not defined",
     "output_type": "error",
     "traceback": [
      "\u001b[1;31m---------------------------------------------------------------------------\u001b[0m",
      "\u001b[1;31mNameError\u001b[0m                                 Traceback (most recent call last)",
      "\u001b[1;32m<ipython-input-6-7f71d771d8dd>\u001b[0m in \u001b[0;36m<module>\u001b[1;34m\u001b[0m\n\u001b[0;32m      1\u001b[0m \u001b[1;31m#for debugging\u001b[0m\u001b[1;33m\u001b[0m\u001b[1;33m\u001b[0m\u001b[1;33m\u001b[0m\u001b[0m\n\u001b[1;32m----> 2\u001b[1;33m \u001b[0mcalc_eig\u001b[0m\u001b[1;33m(\u001b[0m\u001b[0mmyK\u001b[0m\u001b[1;33m,\u001b[0m \u001b[0mDn\u001b[0m\u001b[1;33m)\u001b[0m\u001b[1;33m\u001b[0m\u001b[1;33m\u001b[0m\u001b[0m\n\u001b[0m",
      "\u001b[1;31mNameError\u001b[0m: name 'myK' is not defined"
     ]
    }
   ],
   "source": [
    "#for debugging\n",
    "calc_eig(myK, Dn)"
   ]
  },
  {
   "cell_type": "markdown",
   "metadata": {},
   "source": [
    "Koopman modes: $\\mathbf{V} = (\\mathbf{W}^* \\mathbf{B})^T$ with $\\mathbf{W}^*$ holding the inverted eigenvectors."
   ]
  },
  {
   "cell_type": "code",
   "execution_count": 7,
   "metadata": {},
   "outputs": [],
   "source": [
    "# calculate the Koopman modes\n",
    "def calc_modes(eigenvectors, D):#no D?\n",
    "    eigenvectors_inverted = np.linalg.inv(eigenvectors)\n",
    "    B = np.zeros((np.shape(eigenvectors)[-1], 2)) #B should be (K,N) where N is dim of data points\n",
    "    B[1,0] = 1# for the example from Willimas et al.\n",
    "    B[5,1] = 1# for the example from Willimas et al.\n",
    "    modes = (eigenvectors_inverted @ B).T\n",
    "    return modes"
   ]
  },
  {
   "cell_type": "code",
   "execution_count": 8,
   "metadata": {},
   "outputs": [],
   "source": [
    "# perform EDMD algorithm\n",
    "def EDMD(X, Y, D):\n",
    "    K = calc_K(X, Y, D)\n",
    "    eigenvalues, eigenvectors = calc_eig(K, D)# should return eigenfunctions as well\n",
    "    modes = calc_modes(eigenvectors, D)\n",
    "    return eigenvalues, eigenvectors, modes#, eigenfunctions"
   ]
  },
  {
   "cell_type": "markdown",
   "metadata": {},
   "source": [
    "### Task 3: Linear example from Williams et al., 2015\n",
    "Analyical solution vs. our code vs. Williams code/solution\\\n",
    "Example: $x(n+1) = Jx(n) = \\begin{bmatrix} 0.9 & -0.1 \\\\ 0.0 & 0.8 \\end{bmatrix} x(n)$"
   ]
  },
  {
   "cell_type": "code",
   "execution_count": 9,
   "metadata": {},
   "outputs": [],
   "source": [
    "# Create the data\n",
    "J = [[0.9, -0.1],[0.0, 0.8]]\n",
    "# X normal distributed with size (2,100)\n",
    "X = np.random.default_rng().normal(size=(2,100))\n",
    "# Y as result of J @ X\n",
    "Y = J @ X"
   ]
  },
  {
   "cell_type": "code",
   "execution_count": 10,
   "metadata": {},
   "outputs": [
    {
     "data": {
      "text/plain": [
       "'\\nDn = lambda x,y,z1,z2,z3,z4,z5 : [H0(x) * H0(y) * z1,H0(x)*H1(y)*z2,H0(x) * H2(y) * z3,H0(x)*H3(y)*z4,H0(x) * H4(y) * z5,\\n                  H1(x) * H0(y)*z1,H1(x)*H1(y)*z2,H1(x) * H2(y)*z3,H1(x)*H3(y)*z4,H1(x) * H4(y) *z5,\\n                  H2(x) * H0(y)*z1,H2(x)*H1(y)*z2,H2(x) * H2(y)*z3,H2(x)*H3(y)*z4,H2(x) * H4(y)*z5,\\n                  H3(x) * H0(y)*z1,H3(x)*H1(y)*z2,H3(x) * H2(y)*z3,H3(x)*H3(y)*z4,H3(x) * H4(y)*z5,\\n                  H4(x) * H0(y)*z1,H4(x)*H1(y)*z2,H4(x) * H2(y)*z3,H4(x)*H3(y)*z4,H4(x) * H4(y)*z5]\\n'"
      ]
     },
     "execution_count": 10,
     "metadata": {},
     "output_type": "execute_result"
    }
   ],
   "source": [
    "# Create the dictionary\n",
    "# define Hermite polynomials\n",
    "def H0(x):\n",
    "    return 1\n",
    "def H1(x):\n",
    "    return 2 * x\n",
    "def H2(x):\n",
    "    return 4 * x**2 - 2\n",
    "def H3(x):\n",
    "    return 8 * x**3 - 12 * x\n",
    "def H4(x):\n",
    "    return 16 * x**4 - 48 * x**2 + 12\n",
    "# define dictionary -> like in calc_eig() the problem is to multiply functions (in D) with eigenvectors and\n",
    "# obtain new functions again\n",
    "# the active version 'Dn' works fine along everything else in the EDMD algorithm\n",
    "'''\n",
    "psi0 = lambda x,y : [[H0(x) * H0(y)],[H0(x)*H1(y)],[H0(x) * H2(y)],[H0(x)*H3(y)],[H0(x) * H4(y)]]\n",
    "psi1 = lambda x,y : [[H1(x) * H0(y)],[H1(x)*H1(y)],[H1(x) * H2(y)],[H1(x)*H3(y)],[H1(x) * H4(y)]]\n",
    "psi2 = lambda x,y : [[H2(x) * H0(y)],[H2(x)*H1(y)],[H2(x) * H2(y)],[H2(x)*H3(y)],[H2(x) * H4(y)]]\n",
    "psi3 = lambda x,y : [[H3(x) * H0(y)],[H3(x)*H1(y)],[H3(x) * H2(y)],[H3(x)*H3(y)],[H3(x) * H4(y)]]\n",
    "psi4 = lambda x,y : [[H4(x) * H0(y)],[H4(x)*H1(y)],[H4(x) * H2(y)],[H4(x)*H3(y)],[H4(x) * H4(y)]]\n",
    "D = [psi0, psi1, psi2, psi3, psi4]\n",
    "'''\n",
    "'''\n",
    "Dn = lambda x,y : [[H0(x) * H0(y)],[H0(x)*H1(y)],[H0(x) * H2(y)],[H0(x)*H3(y)],[H0(x) * H4(y)],\n",
    "                  [H1(x) * H0(y)],[H1(x)*H1(y)],[H1(x) * H2(y)],[H1(x)*H3(y)],[H1(x) * H4(y)],\n",
    "                  [H2(x) * H0(y)],[H2(x)*H1(y)],[H2(x) * H2(y)],[H2(x)*H3(y)],[H2(x) * H4(y)],\n",
    "                  [H3(x) * H0(y)],[H3(x)*H1(y)],[H3(x) * H2(y)],[H3(x)*H3(y)],[H3(x) * H4(y)],\n",
    "                  [H4(x) * H0(y)],[H4(x)*H1(y)],[H4(x) * H2(y)],[H4(x)*H3(y)],[H4(x) * H4(y)]]\n",
    "'''\n",
    "\n",
    "Dn = lambda x,y : [H0(x) * H0(y),H0(x)*H1(y),H0(x) * H2(y),H0(x)*H3(y),H0(x) * H4(y),\n",
    "                  H1(x) * H0(y),H1(x)*H1(y),H1(x) * H2(y),H1(x)*H3(y),H1(x) * H4(y),\n",
    "                  H2(x) * H0(y),H2(x)*H1(y),H2(x) * H2(y),H2(x)*H3(y),H2(x) * H4(y),\n",
    "                  H3(x) * H0(y),H3(x)*H1(y),H3(x) * H2(y),H3(x)*H3(y),H3(x) * H4(y),\n",
    "                  H4(x) * H0(y),H4(x)*H1(y),H4(x) * H2(y),H4(x)*H3(y),H4(x) * H4(y)]\n",
    "\n",
    "#A possible workaround for the above issue, is to evaluate D for every desired value before and\n",
    "# then multiply with the eigenvector. Below is an attempt to do so.\n",
    "#Another possibility could be to do something like the following, i.e. multtply every element with z:\n",
    "'''\n",
    "Dn = lambda x,y,z : [H0(x) * H0(y) * z,H0(x)*H1(y)*z,H0(x) * H2(y) * z,H0(x)*H3(y)*z,H0(x) * H4(y) * z,\n",
    "                  H1(x) * H0(y)*z,H1(x)*H1(y)*z,H1(x) * H2(y)*z,H1(x)*H3(y)*z,H1(x) * H4(y) *z,\n",
    "                  H2(x) * H0(y)*z,H2(x)*H1(y)*z,H2(x) * H2(y)*z,H2(x)*H3(y)*z,H2(x) * H4(y)*z,\n",
    "                  H3(x) * H0(y)*z,H3(x)*H1(y)*z,H3(x) * H2(y)*z,H3(x)*H3(y)*z,H3(x) * H4(y)*z,\n",
    "                  H4(x) * H0(y)*z,H4(x)*H1(y)*z,H4(x) * H2(y)*z,H4(x)*H3(y)*z,H4(x) * H4(y)*z]\n",
    "'''\n",
    "#Or one step further, multiply with zi, the i-th entry in the eigenvector. (zi=1 in calc_K() to use the 'original' D)\n",
    "'''\n",
    "Dn = lambda x,y,z1,z2,z3,z4,z5 : [H0(x) * H0(y) * z1,H0(x)*H1(y)*z2,H0(x) * H2(y) * z3,H0(x)*H3(y)*z4,H0(x) * H4(y) * z5,\n",
    "                  H1(x) * H0(y)*z1,H1(x)*H1(y)*z2,H1(x) * H2(y)*z3,H1(x)*H3(y)*z4,H1(x) * H4(y) *z5,\n",
    "                  H2(x) * H0(y)*z1,H2(x)*H1(y)*z2,H2(x) * H2(y)*z3,H2(x)*H3(y)*z4,H2(x) * H4(y)*z5,\n",
    "                  H3(x) * H0(y)*z1,H3(x)*H1(y)*z2,H3(x) * H2(y)*z3,H3(x)*H3(y)*z4,H3(x) * H4(y)*z5,\n",
    "                  H4(x) * H0(y)*z1,H4(x)*H1(y)*z2,H4(x) * H2(y)*z3,H4(x)*H3(y)*z4,H4(x) * H4(y)*z5]\n",
    "'''\n",
    "#Right now the last option seems to be the best option for me"
   ]
  },
  {
   "cell_type": "code",
   "execution_count": 11,
   "metadata": {},
   "outputs": [],
   "source": [
    "# apply EDMD to obtain eigenvalues and eigenfunctions\n",
    "eigenvalues, eigenvectors, modes = EDMD(X, Y, Dn)"
   ]
  },
  {
   "cell_type": "code",
   "execution_count": 12,
   "metadata": {},
   "outputs": [
    {
     "ename": "NameError",
     "evalue": "name 'eigenfunctions' is not defined",
     "output_type": "error",
     "traceback": [
      "\u001b[1;31m---------------------------------------------------------------------------\u001b[0m",
      "\u001b[1;31mNameError\u001b[0m                                 Traceback (most recent call last)",
      "\u001b[1;32m<ipython-input-12-f8d9b77407dc>\u001b[0m in \u001b[0;36m<module>\u001b[1;34m\u001b[0m\n\u001b[1;32m----> 1\u001b[1;33m \u001b[0mnp\u001b[0m\u001b[1;33m.\u001b[0m\u001b[0mshape\u001b[0m\u001b[1;33m(\u001b[0m\u001b[0meigenfunctions\u001b[0m\u001b[1;33m)\u001b[0m\u001b[1;33m\u001b[0m\u001b[1;33m\u001b[0m\u001b[0m\n\u001b[0m",
      "\u001b[1;31mNameError\u001b[0m: name 'eigenfunctions' is not defined"
     ]
    }
   ],
   "source": [
    "np.shape(eigenfunctions)"
   ]
  },
  {
   "cell_type": "code",
   "execution_count": 13,
   "metadata": {},
   "outputs": [],
   "source": [
    "def D_xy(x,y,D):\n",
    "    efuncvalues = []\n",
    "    for i in x:\n",
    "        for j in y:\n",
    "            efuncvalues.append(D(i,j))#entweder hier @ eivect oder unten\n",
    "    efuncvalues = np.array(efuncvalues)\n",
    "    return efuncvalues"
   ]
  },
  {
   "cell_type": "code",
   "execution_count": 14,
   "metadata": {
    "scrolled": true
   },
   "outputs": [
    {
     "data": {
      "image/png": "[encoded data removed]",
      "text/plain": [
       "<Figure size 432x288 with 8 Axes>"
      ]
     },
     "metadata": {
      "needs_background": "light"
     },
     "output_type": "display_data"
    }
   ],
   "source": [
    "# plot first 8 nontrivial eigenfunctions (+ scaling) like in Williams et al. 2015\n",
    "x = np.linspace(-5,5,100)\n",
    "y = np.linspace(-5,5,100)\n",
    "X, Y = np.meshgrid(x, y)\n",
    "fig, axs = plt.subplots(2,4)\n",
    "for i in range(1,9):\n",
    "    plt.subplot(2,4,i)\n",
    "    #Dn(X[0,j],X[1,j]) @ eigenvectors[i]\n",
    "    values = D_xy(x,y,Dn)\n",
    "    dsa = np.real(values @ eigenvectors[i])\n",
    "    dsa /= np.linalg.norm(dsa)\n",
    "    #print(np.dtype(blub))\n",
    "    #plt.imshow(dsa.reshape((100,100)), interpolation='bilinear')\n",
    "    plt.contourf(X, Y, dsa.reshape(100,100), 100)\n",
    "#fig.colorbar(plt.cm.Spectral_r, ax=axs[0,:])\n",
    "\n",
    "# versuche pot von x,y mit dsa farbkodiert"
   ]
  },
  {
   "cell_type": "code",
   "execution_count": 15,
   "metadata": {},
   "outputs": [
    {
     "data": {
      "text/plain": [
       "[1,\n",
       " -10,\n",
       " 98,\n",
       " -940,\n",
       " 8812,\n",
       " -10,\n",
       " 100,\n",
       " -980,\n",
       " 9400,\n",
       " -88120,\n",
       " 98,\n",
       " -980,\n",
       " 9604,\n",
       " -92120,\n",
       " 863576,\n",
       " -940,\n",
       " 9400,\n",
       " -92120,\n",
       " 883600,\n",
       " -8283280,\n",
       " 8812,\n",
       " -88120,\n",
       " 863576,\n",
       " -8283280,\n",
       " 77651344]"
      ]
     },
     "execution_count": 15,
     "metadata": {},
     "output_type": "execute_result"
    }
   ],
   "source": [
    "Dn(-5,-5)"
   ]
  },
  {
   "cell_type": "code",
   "execution_count": 16,
   "metadata": {},
   "outputs": [
    {
     "data": {
      "text/plain": [
       "(100, 100)"
      ]
     },
     "execution_count": 16,
     "metadata": {},
     "output_type": "execute_result"
    }
   ],
   "source": [
    "np.shape(dsa.reshape((100,100)))"
   ]
  },
  {
   "cell_type": "markdown",
   "metadata": {},
   "source": [
    "### Task 4: Example from crowd dynamics\n",
    "No analytical solution? provide an interpretation (and compare to datafold code)"
   ]
  },
  {
   "cell_type": "code",
   "execution_count": null,
   "metadata": {},
   "outputs": [],
   "source": []
  }
 ],
 "metadata": {
  "kernelspec": {
   "display_name": "Python 3",
   "language": "python",
   "name": "python3"
  },
  "language_info": {
   "codemirror_mode": {
    "name": "ipython",
    "version": 3
   },
   "file_extension": ".py",
   "mimetype": "text/x-python",
   "name": "python",
   "nbconvert_exporter": "python",
   "pygments_lexer": "ipython3",
   "version": "3.7.3"
  }
 },
 "nbformat": 4,
 "nbformat_minor": 4
}
